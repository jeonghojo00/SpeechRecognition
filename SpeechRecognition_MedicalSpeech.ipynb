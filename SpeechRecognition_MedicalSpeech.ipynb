{
  "nbformat": 4,
  "nbformat_minor": 0,
  "metadata": {
    "colab": {
      "name": "SpeechRecognition_MedicalSpeech",
      "provenance": [],
      "collapsed_sections": [],
      "machine_shape": "hm",
      "mount_file_id": "1v9FcT4_pk1V2TVjJJ2bo32MhKbgHqSD5",
      "authorship_tag": "ABX9TyNgZN07UpcRqu1Rprxsdekq",
      "include_colab_link": true
    },
    "kernelspec": {
      "display_name": "Python 3",
      "name": "python3"
    },
    "language_info": {
      "name": "python"
    }
  },
  "cells": [
    {
      "cell_type": "markdown",
      "metadata": {
        "id": "view-in-github",
        "colab_type": "text"
      },
      "source": [
        "<a href=\"https://colab.research.google.com/github/jeonghojo00/SpeechRecognition/blob/main/SpeechRecognition_MedicalSpeech.ipynb\" target=\"_parent\"><img src=\"https://colab.research.google.com/assets/colab-badge.svg\" alt=\"Open In Colab\"/></a>"
      ]
    },
    {
      "cell_type": "markdown",
      "metadata": {
        "id": "EWeYRH8U9tWi"
      },
      "source": [
        "# Target 1: Convert Wav file into Text\n",
        " Target 2: Analyze symptoms with text"
      ]
    },
    {
      "cell_type": "markdown",
      "metadata": {
        "id": "hba77M7HLU_V"
      },
      "source": [
        "## Step 0. Connect to Google Drive"
      ]
    },
    {
      "cell_type": "code",
      "metadata": {
        "colab": {
          "base_uri": "https://localhost:8080/"
        },
        "id": "zjyxXokk906a",
        "outputId": "eeefe89e-3d96-49db-e4c4-6137968e971e"
      },
      "source": [
        "# Mount google drive\n",
        "from google.colab import drive\n",
        "drive.mount('/content/drive')"
      ],
      "execution_count": 1,
      "outputs": [
        {
          "output_type": "stream",
          "text": [
            "Drive already mounted at /content/drive; to attempt to forcibly remount, call drive.mount(\"/content/drive\", force_remount=True).\n"
          ],
          "name": "stdout"
        }
      ]
    },
    {
      "cell_type": "code",
      "metadata": {
        "id": "-Ki8pALfQDcH"
      },
      "source": [
        "# Change current directory\n",
        "import os\n",
        "os.chdir('/content/drive/My Drive/Colab Notebooks/SpeechRecognition/MedicalSpeech')\n"
      ],
      "execution_count": 2,
      "outputs": []
    },
    {
      "cell_type": "code",
      "metadata": {
        "colab": {
          "base_uri": "https://localhost:8080/"
        },
        "id": "1GVfCfoJOkRN",
        "outputId": "596e3651-05f0-4f3a-f687-8783d1934806"
      },
      "source": [
        "# Import Overview csv file\n",
        "import pandas as pd\n",
        "\n",
        "#Analyze Data\n",
        "def explore_data(df):\n",
        "    print(f\"The data contains {df.shape[0]} rows and {df.shape[1]} columns.\")\n",
        "    print('\\n')\n",
        "    print('Dataset columns:',df.columns)\n",
        "    print('\\n')\n",
        "    print(df.info())\n",
        "\n",
        "filename = \"overview-of-recordings.csv\"\n",
        "overview = pd.read_csv(filename)\n",
        "explore_data(overview)"
      ],
      "execution_count": 3,
      "outputs": [
        {
          "output_type": "stream",
          "text": [
            "The data contains 6661 rows and 13 columns.\n",
            "\n",
            "\n",
            "Dataset columns: Index(['audio_clipping', 'audio_clipping:confidence',\n",
            "       'background_noise_audible', 'background_noise_audible:confidence',\n",
            "       'overall_quality_of_the_audio', 'quiet_speaker',\n",
            "       'quiet_speaker:confidence', 'speaker_id', 'file_download', 'file_name',\n",
            "       'phrase', 'prompt', 'writer_id'],\n",
            "      dtype='object')\n",
            "\n",
            "\n",
            "<class 'pandas.core.frame.DataFrame'>\n",
            "RangeIndex: 6661 entries, 0 to 6660\n",
            "Data columns (total 13 columns):\n",
            " #   Column                               Non-Null Count  Dtype  \n",
            "---  ------                               --------------  -----  \n",
            " 0   audio_clipping                       6661 non-null   object \n",
            " 1   audio_clipping:confidence            6661 non-null   float64\n",
            " 2   background_noise_audible             6661 non-null   object \n",
            " 3   background_noise_audible:confidence  6661 non-null   float64\n",
            " 4   overall_quality_of_the_audio         6661 non-null   float64\n",
            " 5   quiet_speaker                        6661 non-null   object \n",
            " 6   quiet_speaker:confidence             6661 non-null   float64\n",
            " 7   speaker_id                           6661 non-null   int64  \n",
            " 8   file_download                        6661 non-null   object \n",
            " 9   file_name                            6661 non-null   object \n",
            " 10  phrase                               6661 non-null   object \n",
            " 11  prompt                               6661 non-null   object \n",
            " 12  writer_id                            6661 non-null   int64  \n",
            "dtypes: float64(4), int64(2), object(7)\n",
            "memory usage: 676.6+ KB\n",
            "None\n"
          ],
          "name": "stdout"
        }
      ]
    },
    {
      "cell_type": "markdown",
      "metadata": {
        "id": "YvQTzFTFM-au"
      },
      "source": [
        "## Step 1. Preprocessing"
      ]
    },
    {
      "cell_type": "markdown",
      "metadata": {
        "id": "XmT1Dx8xV7xm"
      },
      "source": [
        "##### Preprocessing includes following actions:\n",
        "1. Load audio file\n",
        "2. Load csv file\n",
        "3. Convert audio file into spectrogram feature, mfcc feature\n",
        "4/ "
      ]
    },
    {
      "cell_type": "markdown",
      "metadata": {
        "id": "uE1GoZ3Gc3aO"
      },
      "source": [
        "### Step 1-1. Import train, validate, and test corpus json files"
      ]
    },
    {
      "cell_type": "code",
      "metadata": {
        "id": "UhAwKR_cQZO7"
      },
      "source": [
        "import json\n",
        "\n",
        "f = open('train_corpus.json',)\n",
        "train_corpus = json.load(f)\n",
        "\n",
        "f = open('validate_corpus.json',)\n",
        "validate_corpus = json.load(f)\n",
        "\n",
        "f = open('test_corpus.json',)\n",
        "test_corpus = json.load(f)\n",
        "  "
      ],
      "execution_count": 4,
      "outputs": []
    },
    {
      "cell_type": "markdown",
      "metadata": {
        "id": "SOP8yKkAXhqm"
      },
      "source": [
        "### Step 1-2. Define functions for various wavelengths"
      ]
    },
    {
      "cell_type": "code",
      "metadata": {
        "id": "Yav0lvdjfjjz"
      },
      "source": [
        "# Transform wav into signal and rate\n",
        "import librosa, librosa.display\n",
        "\n",
        "signal, sr = librosa.load(train_corpus[0][\"key\"], sr=22050)"
      ],
      "execution_count": 5,
      "outputs": []
    },
    {
      "cell_type": "code",
      "metadata": {
        "colab": {
          "base_uri": "https://localhost:8080/",
          "height": 279
        },
        "id": "3VOKuotmhNIg",
        "outputId": "661cedaf-37b4-4b1d-b4f6-58eda2aaf8c0"
      },
      "source": [
        "# WaveForm\n",
        "\n",
        "import matplotlib.pyplot as plt\n",
        "\n",
        "librosa.display.waveplot(signal, sr=sr)\n",
        "plt.xlabel(\"Time\")\n",
        "plt.ylabel(\"Amplitude\")\n",
        "plt.show()"
      ],
      "execution_count": 6,
      "outputs": [
        {
          "output_type": "display_data",
          "data": {
            "image/png": "[encoded data removed]",
            "text/plain": [
              "<Figure size 432x288 with 1 Axes>"
            ]
          },
          "metadata": {
            "tags": [],
            "needs_background": "light"
          }
        }
      ]
    },
    {
      "cell_type": "code",
      "metadata": {
        "id": "ba7VT5nLmng0"
      },
      "source": [
        "import librosa, librosa.display\n",
        "\n",
        "def to_spectrogram(file_path, sr=22050, plot=False):\n",
        "    # Transform wav into signal and rate\n",
        "    signal, sr = librosa.load(file_path, sr=sr)\n",
        "\n",
        "    # Spectrogram\n",
        "    n_fft = 2048 # Number of samples per fft\n",
        "    hop_length = 512 # Amount we shift to the right\n",
        "\n",
        "    stft = librosa.core.stft(signal, hop_length=hop_length, n_fft = n_fft)\n",
        "    spectrogram = np.abs(stft)\n",
        "\n",
        "    log_spectrogram = librosa.amplitude_to_db(spectrogram)\n",
        "    \n",
        "    if plot:\n",
        "        # Plot the result\n",
        "        librosa.display.specshow(log_spectrogram, sr=sr, hop_length=hop_length)\n",
        "        plt.xlabel(\"Time\")\n",
        "        plt.ylabel(\"Frequency\")\n",
        "        plt.colorbar()\n",
        "        plt.show()\n",
        "        \n",
        "    return log_spectrogram"
      ],
      "execution_count": 54,
      "outputs": []
    },
    {
      "cell_type": "code",
      "metadata": {
        "id": "gjOdHcAvmsm9"
      },
      "source": [
        "import numpy as np\n",
        "def normalize(feature, eps=1e-14):\n",
        "        \"\"\" Center a feature using the mean and std\n",
        "        Params:\n",
        "            feature (numpy.ndarray): Feature to normalize\n",
        "        \"\"\"\n",
        "        feats_mean = np.mean(log_spectrogram, axis=0)\n",
        "        feats_std = np.std(log_spectrogram, axis=0)\n",
        "        return (feature - feats_mean) / (feats_std + eps)"
      ],
      "execution_count": 55,
      "outputs": []
    },
    {
      "cell_type": "code",
      "metadata": {
        "id": "-sMD3S1VWYrz"
      },
      "source": [
        "def to_mfcc(file_path, sr=22050, plot=False):\n",
        "    # MFCCs\n",
        "    signal, sr = librosa.load(train_corpus[0][\"key\"], sr=sr)\n",
        "    MFCCs = librosa.feature.mfcc(signal, n_fft=n_fft, hop_length=hop_length, n_mfcc=13)\n",
        "\n",
        "    if plot:\n",
        "        librosa.display.specshow(MFCCs, sr=sr, hop_length=hop_length)\n",
        "        plt.xlabel(\"Time\")\n",
        "        plt.ylabel(\"Frequency\")\n",
        "        plt.colorbar()\n",
        "        plt.show()\n"
      ],
      "execution_count": 56,
      "outputs": []
    },
    {
      "cell_type": "code",
      "metadata": {
        "id": "Q6Pp2-Lejd7j"
      },
      "source": [
        "def to_spectrum(file_path, sr=22050, plot=False):\n",
        "    # Spectrum\n",
        "    # Transform wav into signal and rate\n",
        "    signal, sr = librosa.load(train_corpus[0][\"key\"], sr=sr)\n",
        "\n",
        "    fft = np.fft.fft(signal)\n",
        "    magnitude = np.abs(fft)\n",
        "    frequency = np.linspace(0, sr, len(magnitude))\n",
        "\n",
        "    # Because once we pass over the half, we repeat the same information. we use only the first half\n",
        "    left_frequency = frequency[:int(len(frequency)/2)]\n",
        "    left_magnitude = magnitude[:int(len(magnitude)/2)]\n",
        "\n",
        "    if plot:\n",
        "\n",
        "        plt.plot(left_frequency, left_magnitude)\n",
        "        plt.xlabel(\"Frequency\")\n",
        "        plt.ylabel(\"Magnitude\")\n",
        "        plt.show()\n",
        "    "
      ],
      "execution_count": 57,
      "outputs": []
    },
    {
      "cell_type": "markdown",
      "metadata": {
        "id": "k9ymHLA2Phq6"
      },
      "source": [
        "### Step 1.3. Prepare Datasets"
      ]
    },
    {
      "cell_type": "code",
      "metadata": {
        "id": "UAJTwd5jk65g"
      },
      "source": [
        "SPACE_TOKEN = '<space>'\n",
        "SPACE_INDEX = 0\n",
        "FIRST_INDEX = ord('a') - 1  # 0 is reserved to space\n",
        "\n",
        "def convert_inputs_to_ctc_format(audio_path, feature, text, samplerate=22050):\n",
        "    # Convert auido file into audio feature in 3D\n",
        "    ## Load audio file into selected feature\n",
        "    if feature == \"spectrogram\":\n",
        "        inputs = to_spectrogram(audio_path, sr=samplerate)\n",
        "    elif feature == \"mfcc\":\n",
        "        inputs = to_mfcc(audio_path, sr=samplerate)\n",
        "    elif feature == \"spectrum\":\n",
        "        inputs = to_spectrum(audio_path, sr=samplerate)\n",
        "    \n",
        "    ## Change inputs into 3D\n",
        "    train_inputs = np.asarray(inputs[np.newaxis, :])\n",
        "    train_inputs = (train_inputs - np.mean(train_inputs)) / np.std(train_inputs)\n",
        "    train_seq_len = [train_inputs.shape[1]]\n",
        "\n",
        "    # Get only the words between [a-z] and replace period for none\n",
        "    original = ' '.join(text.strip().lower().split(' '))\\\n",
        "                  .replace('.', '').replace('?', '').replace(',','').replace(\"'\", '').replace('!', '').replace('-', '')\n",
        "\n",
        "    targets = original.replace(' ', '  ')\n",
        "    targets = targets.split(' ')\n",
        "\n",
        "    # Adding blank label\n",
        "    targets = np.hstack([SPACE_TOKEN if x == '' else list(x) for x in targets])\n",
        "\n",
        "    # Transform char into index\n",
        "    targets = np.asarray([SPACE_INDEX if x == SPACE_TOKEN else ord(x) - FIRST_INDEX\n",
        "                          for x in targets])\n",
        "\n",
        "    return train_inputs, targets, train_seq_len, original\n",
        "\n",
        "\n"
      ],
      "execution_count": 84,
      "outputs": []
    },
    {
      "cell_type": "code",
      "metadata": {
        "id": "B_oYbaqR2RN9"
      },
      "source": [
        "sample_rate = 8000\n",
        "# Some configs\n",
        "num_features = 13  # log filter bank or MFCC features\n",
        "# Accounting the 0th index +  space + blank label = 28 characters\n",
        "num_classes = ord('z') - ord('a') + 1 + 1 + 1\n",
        "\n",
        "# Hyper-parameters\n",
        "num_epochs = 100000\n",
        "num_hidden = 256\n",
        "batch_size = 16\n",
        "\n",
        "num_examples = 1\n",
        "num_batches_per_epoch = 10\n",
        "\n",
        "\n",
        "def decode_batch(d, original, phase='training'):\n",
        "    aligned_original_string = ''\n",
        "    aligned_decoded_string = ''\n",
        "    for jj in range(batch_size)[0:2]:  # just for visualisation purposes. we display only 2.\n",
        "        values = d.values[np.where(d.indices[:, 0] == jj)[0]]\n",
        "        str_decoded = ''.join([chr(x) for x in np.asarray(values) + FIRST_INDEX])\n",
        "        # Replacing blank label to none\n",
        "        str_decoded = str_decoded.replace(chr(ord('z') + 1), '')\n",
        "        # Replacing space label to space\n",
        "        str_decoded = str_decoded.replace(chr(ord('a') - 1), ' ')\n",
        "        maxlen = max(len(original[jj]), len(str_decoded))\n",
        "        aligned_original_string += str(original[jj]).ljust(maxlen) + ' | '\n",
        "        aligned_decoded_string += str(str_decoded).ljust(maxlen) + ' | '\n",
        "    print('- Original (%s) : %s ...' % (phase, aligned_original_string))\n",
        "    print('- Decoded  (%s) : %s ...' % (phase, aligned_decoded_string))"
      ],
      "execution_count": 85,
      "outputs": []
    },
    {
      "cell_type": "code",
      "metadata": {
        "id": "rTkvL6SCRwNS"
      },
      "source": [
        "target_text = train_corpus[0]['text']\n",
        "train_X, train_y, train_seq_len, original = convert_inputs_to_ctc_format(audio_path = train_corpus[0]['key'], feature=\"spectrogram\", text = train_corpus[0]['text'])"
      ],
      "execution_count": 83,
      "outputs": []
    },
    {
      "cell_type": "code",
      "metadata": {
        "colab": {
          "base_uri": "https://localhost:8080/"
        },
        "id": "Yv7YdFFw5N5E",
        "outputId": "ac2587b9-1969-4cc1-e5ab-7ce1f742431f"
      },
      "source": [
        "train_y"
      ],
      "execution_count": 97,
      "outputs": [
        {
          "output_type": "execute_result",
          "data": {
            "text/plain": [
              "array([ 9,  0, 20,  8,  9, 14, 11,  0,  9,  0, 19, 16, 18,  1,  9, 14,  5,\n",
              "        4,  0, 13, 25,  0,  1, 14, 11, 12,  5,  0,  9, 20,  0, 18,  5,  1,\n",
              "       12, 12, 25,  0,  8, 21, 18, 20, 19])"
            ]
          },
          "metadata": {
            "tags": []
          },
          "execution_count": 97
        }
      ]
    },
    {
      "cell_type": "code",
      "metadata": {
        "colab": {
          "base_uri": "https://localhost:8080/"
        },
        "id": "8E0tSwJVwqcV",
        "outputId": "b57012a0-b8fe-4f22-b54d-dd43115b2e7c"
      },
      "source": [
        "SPACE_TOKEN = '<space>'\n",
        "SPACE_INDEX = 0\n",
        "FIRST_INDEX = ord('a') - 1  # 0 is reserved to space\n",
        "\n",
        "def decode_text(y_predict, original):\n",
        "    aligned_original_string = ''\n",
        "    aligned_decoded_string = ''\n",
        "\n",
        "    str_decoded = ''.join([chr(x) for x in np.asarray(y_predict) + FIRST_INDEX])\n",
        "\n",
        "    str_decoded = str_decoded.replace(chr(ord('z') + 1), '')\n",
        "    # Replacing space label to space\n",
        "    str_decoded = str_decoded.replace(chr(ord('a') - 1), ' ')\n",
        "    maxlen = max(len(original), len(str_decoded))\n",
        "    aligned_original_string += str(original).ljust(maxlen)\n",
        "    aligned_decoded_string += str(str_decoded).ljust(maxlen)\n",
        "\n",
        "    print('- Original: %s' % (aligned_original_string))\n",
        "    print('- Decoded : %s' % (aligned_decoded_string))\n",
        "\n"
      ],
      "execution_count": 98,
      "outputs": [
        {
          "output_type": "stream",
          "text": [
            "i`think`i`sprained`my`ankle`it`really`hurts\n",
            "i think i sprained my ankle it really hurts\n",
            "- Original: i think i sprained my ankle it really hurts\n",
            "- Decoded : i think i sprained my ankle it really hurts\n"
          ],
          "name": "stdout"
        }
      ]
    },
    {
      "cell_type": "code",
      "metadata": {
        "id": "0af_8hhXqLaa"
      },
      "source": [
        "def sparse_tuple_from(sequences, dtype=np.int32):\n",
        "    \"\"\"Create a sparse representention of x.\n",
        "    Args:\n",
        "        sequences: a list of lists of type dtype where each element is a sequence\n",
        "    Returns:\n",
        "        A tuple with (indices, values, shape)\n",
        "    \"\"\"\n",
        "    indices = []\n",
        "    values = []\n",
        "\n",
        "    for n, seq in enumerate(sequences):\n",
        "        indices.extend(zip([n] * len(seq), range(len(seq))))\n",
        "        values.extend(seq)\n",
        "\n",
        "    indices = np.asarray(indices, dtype=np.int64)\n",
        "    values = np.asarray(values, dtype=dtype)\n",
        "    shape = np.asarray([len(sequences), np.asarray(indices).max(0)[1] + 1], dtype=np.int64)\n",
        "\n",
        "    return indices, values, shape"
      ],
      "execution_count": 70,
      "outputs": []
    },
    {
      "cell_type": "code",
      "metadata": {
        "id": "u1DU7AS-wswq"
      },
      "source": [
        "y_list = []\n",
        "y_list.append(train_y)"
      ],
      "execution_count": 71,
      "outputs": []
    },
    {
      "cell_type": "code",
      "metadata": {
        "id": "mSHJbrsUwwPy"
      },
      "source": [
        "def decode_batch(d, original, phase='training'):\n",
        "    aligned_original_string = ''\n",
        "    aligned_decoded_string = ''\n",
        "    for jj in range(batch_size)[0:2]:  # just for visualisation purposes. we display only 2.\n",
        "        values = d.values[np.where(d.indices[:, 0] == jj)[0]]\n",
        "        str_decoded = ''.join([chr(x) for x in np.asarray(values) + FIRST_INDEX])\n",
        "        # Replacing blank label to none\n",
        "        str_decoded = str_decoded.replace(chr(ord('z') + 1), '')\n",
        "        # Replacing space label to space\n",
        "        str_decoded = str_decoded.replace(chr(ord('a') - 1), ' ')\n",
        "        maxlen = max(len(original[jj]), len(str_decoded))\n",
        "        aligned_original_string += str(original[jj]).ljust(maxlen) + ' | '\n",
        "        aligned_decoded_string += str(str_decoded).ljust(maxlen) + ' | '\n",
        "    print('- Original (%s) : %s ...' % (phase, aligned_original_string))\n",
        "    print('- Decoded  (%s) : %s ...' % (phase, aligned_decoded_string))"
      ],
      "execution_count": 72,
      "outputs": []
    },
    {
      "cell_type": "code",
      "metadata": {
        "colab": {
          "base_uri": "https://localhost:8080/"
        },
        "id": "nyBBF9A8w0rP",
        "outputId": "762367ae-bd52-4b0f-f983-97b8f4d7b53e"
      },
      "source": [
        "sparsed"
      ],
      "execution_count": 73,
      "outputs": [
        {
          "output_type": "execute_result",
          "data": {
            "text/plain": [
              "(array([[ 0,  0],\n",
              "        [ 0,  1],\n",
              "        [ 0,  2],\n",
              "        [ 0,  3],\n",
              "        [ 0,  4],\n",
              "        [ 0,  5],\n",
              "        [ 0,  6],\n",
              "        [ 0,  7],\n",
              "        [ 0,  8],\n",
              "        [ 0,  9],\n",
              "        [ 0, 10],\n",
              "        [ 0, 11],\n",
              "        [ 0, 12],\n",
              "        [ 0, 13],\n",
              "        [ 0, 14],\n",
              "        [ 0, 15],\n",
              "        [ 0, 16],\n",
              "        [ 0, 17],\n",
              "        [ 0, 18],\n",
              "        [ 0, 19],\n",
              "        [ 0, 20],\n",
              "        [ 0, 21],\n",
              "        [ 0, 22],\n",
              "        [ 0, 23],\n",
              "        [ 0, 24],\n",
              "        [ 0, 25],\n",
              "        [ 0, 26],\n",
              "        [ 0, 27],\n",
              "        [ 0, 28],\n",
              "        [ 0, 29],\n",
              "        [ 0, 30],\n",
              "        [ 0, 31],\n",
              "        [ 0, 32],\n",
              "        [ 0, 33],\n",
              "        [ 0, 34],\n",
              "        [ 0, 35],\n",
              "        [ 0, 36],\n",
              "        [ 0, 37],\n",
              "        [ 0, 38],\n",
              "        [ 0, 39],\n",
              "        [ 0, 40],\n",
              "        [ 0, 41],\n",
              "        [ 0, 42]]),\n",
              " array([ 9,  0, 20,  8,  9, 14, 11,  0,  9,  0, 19, 16, 18,  1,  9, 14,  5,\n",
              "         4,  0, 13, 25,  0,  1, 14, 11, 12,  5,  0,  9, 20,  0, 18,  5,  1,\n",
              "        12, 12, 25,  0,  8, 21, 18, 20, 19], dtype=int32),\n",
              " array([ 1, 43]))"
            ]
          },
          "metadata": {
            "tags": []
          },
          "execution_count": 73
        }
      ]
    },
    {
      "cell_type": "code",
      "metadata": {
        "id": "KmvMHpHBTlSa"
      },
      "source": [
        "batch_size = 16\n",
        "\n",
        "def decode_batch(d, original, phase='training'):\n",
        "    aligned_original_string = ''\n",
        "    aligned_decoded_string = ''\n",
        "    for jj in range(batch_size)[0:2]:  # just for visualisation purposes. we display only 2.\n",
        "        values = d.values[np.where(d.indices[:, 0] == jj)[0]]\n",
        "        str_decoded = ''.join([chr(x) for x in np.asarray(values) + FIRST_INDEX])\n",
        "        # Replacing blank label to none\n",
        "        str_decoded = str_decoded.replace(chr(ord('z') + 1), '')\n",
        "        # Replacing space label to space\n",
        "        str_decoded = str_decoded.replace(chr(ord('a') - 1), ' ')\n",
        "        maxlen = max(len(original[jj]), len(str_decoded))\n",
        "        aligned_original_string += str(original[jj]).ljust(maxlen) + ' | '\n",
        "        aligned_decoded_string += str(str_decoded).ljust(maxlen) + ' | '\n",
        "    print('- Original (%s) : %s ...' % (phase, aligned_original_string))\n",
        "    print('- Decoded  (%s) : %s ...' % (phase, aligned_decoded_string))"
      ],
      "execution_count": 68,
      "outputs": []
    },
    {
      "cell_type": "code",
      "metadata": {
        "colab": {
          "base_uri": "https://localhost:8080/",
          "height": 262
        },
        "id": "d8a9hrRUgAf7",
        "outputId": "54150601-ed1b-4b7f-80a3-59c414bddc99"
      },
      "source": [
        "inputs = to_spectrogram(train_corpus[0]['key'], plot=True)"
      ],
      "execution_count": 43,
      "outputs": [
        {
          "output_type": "display_data",
          "data": {
            "image/png": "[encoded data removed]",
            "text/plain": [
              "<Figure size 432x288 with 2 Axes>"
            ]
          },
          "metadata": {
            "tags": [],
            "needs_background": "light"
          }
        }
      ]
    },
    {
      "cell_type": "code",
      "metadata": {
        "id": "5Fxrw_KejGFr"
      },
      "source": [
        "train_inputs = np.asarray(inputs[np.newaxis, :])\n",
        "train_inputs = (train_inputs - np.mean(train_inputs)) / np.std(train_inputs)\n",
        "train_seq_len = [train_inputs.shape[1]]"
      ],
      "execution_count": 44,
      "outputs": []
    },
    {
      "cell_type": "code",
      "metadata": {
        "colab": {
          "base_uri": "https://localhost:8080/"
        },
        "id": "MW6UOsNZjYCp",
        "outputId": "cb03a3f3-96e7-425c-c553-52933f6b3769"
      },
      "source": [
        "train_seq_len"
      ],
      "execution_count": 45,
      "outputs": [
        {
          "output_type": "execute_result",
          "data": {
            "text/plain": [
              "[1025]"
            ]
          },
          "metadata": {
            "tags": []
          },
          "execution_count": 45
        }
      ]
    },
    {
      "cell_type": "code",
      "metadata": {
        "id": "PHi0xsU4vpZ5"
      },
      "source": [
        ""
      ],
      "execution_count": 67,
      "outputs": []
    },
    {
      "cell_type": "code",
      "metadata": {
        "id": "KwiMCPZkvqZc"
      },
      "source": [
        ""
      ],
      "execution_count": null,
      "outputs": []
    },
    {
      "cell_type": "markdown",
      "metadata": {
        "id": "Pg-W4R-TZ98S"
      },
      "source": [
        "## Step 2. Build Model"
      ]
    },
    {
      "cell_type": "code",
      "metadata": {
        "colab": {
          "base_uri": "https://localhost:8080/",
          "height": 35
        },
        "id": "OnOHS8ylaBqz",
        "outputId": "124fbf55-6352-40a0-88b7-7fad5eede3cb"
      },
      "source": [
        "'''\n",
        "Recurrent Neural Network works weell in sequential data better than Feed Forward Neural Network\n",
        "Because speech is sequential data, we use Recurrent Neural Network\n",
        "'''\n"
      ],
      "execution_count": 16,
      "outputs": [
        {
          "output_type": "execute_result",
          "data": {
            "application/vnd.google.colaboratory.intrinsic+json": {
              "type": "string"
            },
            "text/plain": [
              "'\\nRecurrent Neural Network works weell in sequential data better than Feed Forward Neural Network\\n'"
            ]
          },
          "metadata": {
            "tags": []
          },
          "execution_count": 16
        }
      ]
    },
    {
      "cell_type": "code",
      "metadata": {
        "id": "NJFEat2dyhvg"
      },
      "source": [
        ""
      ],
      "execution_count": null,
      "outputs": []
    }
  ]
}